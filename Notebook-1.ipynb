{
    "metadata": {
        "kernelspec": {
            "name": "SQL",
            "display_name": "SQL",
            "language": "sql"
        },
        "language_info": {
            "name": "sql",
            "version": ""
        }
    },
    "nbformat_minor": 2,
    "nbformat": 4,
    "cells": [
        {
            "cell_type": "code",
            "source": [
                "USE master\n",
                "GO\n",
                "\n",
                "-- Drop the database if it already exists\n",
                "IF  EXISTS (\n",
                "        SELECT name\n",
                "        FROM sys.databases\n",
                "        WHERE name = N'saasdb'\n",
                "   )\n",
                "DROP DATABASE saasdb\n",
                "GO\n",
                "\n",
                "-- Create the database\n",
                "CREATE DATABASE saasdb\n",
                "GO"
            ],
            "metadata": {
                "azdata_cell_guid": "d60fda00-944a-48c8-8328-8a8a28d4461a",
                "language": "sql"
            },
            "outputs": [
                {
                    "output_type": "display_data",
                    "data": {
                        "text/html": "Commands completed successfully."
                    },
                    "metadata": {}
                },
                {
                    "output_type": "display_data",
                    "data": {
                        "text/html": "Commands completed successfully."
                    },
                    "metadata": {}
                },
                {
                    "output_type": "display_data",
                    "data": {
                        "text/html": "Commands completed successfully."
                    },
                    "metadata": {}
                },
                {
                    "output_type": "display_data",
                    "data": {
                        "text/html": "Total execution time: 00:00:00.099"
                    },
                    "metadata": {}
                }
            ],
            "execution_count": 7
        }
    ]
}